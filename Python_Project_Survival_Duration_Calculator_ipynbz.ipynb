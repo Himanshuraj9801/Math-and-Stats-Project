{
  "nbformat": 4,
  "nbformat_minor": 0,
  "metadata": {
    "colab": {
      "provenance": []
    },
    "kernelspec": {
      "name": "python3",
      "display_name": "Python 3"
    },
    "language_info": {
      "name": "python"
    }
  },
  "cells": [
    {
      "cell_type": "code",
      "source": [
        "def duration_of_survival():\n",
        "\n",
        "    age = int(input(\"What's your age? \"))\n",
        "\n",
        "    unit = input(\"Please choose time unit: Months, Weeks, Days, Hours, Minutes, Seconds. \\nNote: You can write the first letter or the full name of the time unit. \").strip().lower()\n",
        "\n",
        "    months = age * 12\n",
        "    weeks = months * 4\n",
        "    days = age * 365\n",
        "    hours = days * 24\n",
        "    minutes = hours * 60\n",
        "    seconds = minutes * 60\n",
        "\n",
        "\n",
        "    if unit == 'months' or unit == 'm':\n",
        "        print(f'You lived for {months:,} Months')\n",
        "\n",
        "    elif unit == 'weeks' or unit == 'w':\n",
        "        print(f'You lived for {weeks:,} Weeks')\n",
        "\n",
        "    elif unit == 'days' or unit == 'd':\n",
        "        print(f'You lived for {days:,} Days')\n",
        "\n",
        "    elif unit == 'hours' or unit == 'h':\n",
        "        print(f'You lived for {hours:,} Hours')\n",
        "\n",
        "    elif unit == 'minutes' or unit == 'mi':\n",
        "        print(f'You lived for {minutes:,} Minutes')\n",
        "\n",
        "    elif unit == 'seconds' or unit == 's':\n",
        "        print(f'You lived for {seconds:,} Seconds')\n",
        "\n",
        "    else:\n",
        "        print('Your choice is not available')\n",
        "\n",
        "    return"
      ],
      "metadata": {
        "id": "vdkUYUHuVMmo"
      },
      "execution_count": null,
      "outputs": []
    },
    {
      "cell_type": "code",
      "source": [
        "duration_of_survival()"
      ],
      "metadata": {
        "colab": {
          "base_uri": "https://localhost:8080/"
        },
        "id": "grsD4ZMtWI7C",
        "outputId": "cbccad6a-f5bf-4d5c-a904-5d71b28b3da6"
      },
      "execution_count": null,
      "outputs": [
        {
          "output_type": "stream",
          "name": "stdout",
          "text": [
            "What's your age? 24\n",
            "Please choose time unit: Months, Weeks, Days, Hours, Minutes, Seconds. \n",
            "Note: You can write the first letter or the full name of the time unit. M\n",
            "You lived for 288 Months\n"
          ]
        }
      ]
    },
    {
      "cell_type": "code",
      "source": [
        "duration_of_survival()\n"
      ],
      "metadata": {
        "colab": {
          "base_uri": "https://localhost:8080/"
        },
        "id": "Nekn8MqGXX3F",
        "outputId": "d93b7fdb-8e71-470c-872a-e48d42eee665"
      },
      "execution_count": null,
      "outputs": [
        {
          "output_type": "stream",
          "name": "stdout",
          "text": [
            "What's your age? 24\n",
            "Please choose time unit: Months, Weeks, Days, Hours, Minutes, Seconds. \n",
            "Note: You can write the first letter or the full name of the time unit. W\n",
            "You lived for 1,152 Weeks\n"
          ]
        }
      ]
    },
    {
      "cell_type": "code",
      "source": [
        "duration_of_survival()"
      ],
      "metadata": {
        "colab": {
          "base_uri": "https://localhost:8080/"
        },
        "id": "7z9S2tXpXdt_",
        "outputId": "887d5481-9419-4b31-e123-c04415e8b0b5"
      },
      "execution_count": null,
      "outputs": [
        {
          "output_type": "stream",
          "name": "stdout",
          "text": [
            "What's your age? 24\n",
            "Please choose time unit: Months, Weeks, Days, Hours, Minutes, Seconds. \n",
            "Note: You can write the first letter or the full name of the time unit. D\n",
            "You lived for 8,760 Days\n"
          ]
        }
      ]
    },
    {
      "cell_type": "code",
      "source": [
        "duration_of_survival()"
      ],
      "metadata": {
        "colab": {
          "base_uri": "https://localhost:8080/"
        },
        "id": "hjZH6IhXXmN6",
        "outputId": "5b7d841f-8f71-4998-85c7-3bc7e0bfc303"
      },
      "execution_count": null,
      "outputs": [
        {
          "output_type": "stream",
          "name": "stdout",
          "text": [
            "What's your age? 24\n",
            "Please choose time unit: Months, Weeks, Days, Hours, Minutes, Seconds. \n",
            "Note: You can write the first letter or the full name of the time unit. H\n",
            "You lived for 210,240 Hours\n"
          ]
        }
      ]
    },
    {
      "cell_type": "code",
      "source": [
        "duration_of_survival()"
      ],
      "metadata": {
        "colab": {
          "base_uri": "https://localhost:8080/"
        },
        "id": "EOvM_GzNZHAr",
        "outputId": "6b0d8af1-550a-4e1e-f0a3-f5ca54541acf"
      },
      "execution_count": null,
      "outputs": [
        {
          "output_type": "stream",
          "name": "stdout",
          "text": [
            "What's your age? 24\n",
            "Please choose time unit: Months, Weeks, Days, Hours, Minutes, Seconds. \n",
            "Note: You can write the first letter or the full name of the time unit. S\n",
            "You lived for 756,864,000 Seconds\n"
          ]
        }
      ]
    },
    {
      "cell_type": "code",
      "source": [
        "duration_of_survival()"
      ],
      "metadata": {
        "colab": {
          "base_uri": "https://localhost:8080/"
        },
        "id": "h5xcH-9NXqpf",
        "outputId": "a6cf6ceb-62f3-480c-964a-93822e04bc42"
      },
      "execution_count": null,
      "outputs": [
        {
          "output_type": "stream",
          "name": "stdout",
          "text": [
            "What's your age? 24\n",
            "Please choose time unit: Months, Weeks, Days, Hours, Minutes, Seconds. \n",
            "Note: You can write the first letter or the full name of the time unit. Minutes\n",
            "You lived for 12,614,400 Minutes\n"
          ]
        }
      ]
    }
  ]
}